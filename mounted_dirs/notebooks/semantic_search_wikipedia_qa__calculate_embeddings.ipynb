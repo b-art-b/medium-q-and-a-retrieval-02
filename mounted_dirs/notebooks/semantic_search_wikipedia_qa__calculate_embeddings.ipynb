{
 "cells": [
  {
   "cell_type": "code",
   "execution_count": null,
   "id": "0b6bb2e5-86b9-4720-8fab-7eaa3ad2c461",
   "metadata": {},
   "outputs": [],
   "source": [
    "## https://github.com/UKPLab/sentence-transformers/tree/master/examples/applications/semantic-search/semantic_search_wikipedia_qa.py\n",
    "## https://colab.research.google.com/drive/11GunvCqJuebfeTlgbJWkIMT0xJH6PWF1?usp=sharing"
   ]
  },
  {
   "cell_type": "code",
   "execution_count": null,
   "id": "237b0a2f-38c6-43c5-b6ac-acb08984dd35",
   "metadata": {},
   "outputs": [],
   "source": [
    "import gzip\n",
    "import json\n",
    "import logging\n",
    "import math\n",
    "import time\n",
    "import os\n",
    "import sys\n",
    "from concurrent.futures import ThreadPoolExecutor\n",
    "from typing import Generator, Iterable, List\n",
    "\n",
    "import click\n",
    "import torch\n",
    "from sentence_transformers import SentenceTransformer, util\n",
    "\n",
    "Batch = tuple[int, Iterable]\n",
    "Passage = List[str]"
   ]
  },
  {
   "cell_type": "code",
   "execution_count": null,
   "id": "45c74eaa-0ab9-4999-959e-d6c1f7f4a6e5",
   "metadata": {},
   "outputs": [],
   "source": [
    "def get_logger() -> logging.Logger:\n",
    "    logger = logging.getLogger(\"simple-wiki-job\")\n",
    "    logger.setLevel(logging.DEBUG)\n",
    "    handler = logging.StreamHandler(sys.stdout)\n",
    "    handler.setLevel(logging.DEBUG)\n",
    "    formatter = logging.Formatter(\n",
    "        \"[%(asctime)s] [%(name)s] [%(levelname)s] [%(funcName)s]: %(message)s\"\n",
    "    )\n",
    "    handler.setFormatter(formatter)\n",
    "    logger.addHandler(handler)\n",
    "    return logger"
   ]
  },
  {
   "cell_type": "code",
   "execution_count": null,
   "id": "4161a1e0-bf72-46b7-b3b7-e1f237fccf1d",
   "metadata": {},
   "outputs": [],
   "source": [
    "logger = get_logger()"
   ]
  },
  {
   "cell_type": "code",
   "execution_count": null,
   "id": "493de621-298e-4207-b2da-bfeee4f306a6",
   "metadata": {},
   "outputs": [],
   "source": [
    "def info_on_gpu_setup():\n",
    "    if not torch.cuda.is_available():\n",
    "        logger.warning(\"No GPU found. Please add GPU to your setup.\")\n",
    "    else:\n",
    "        no_of_gpus = torch.cuda.device_count()\n",
    "        logger.info(\"CUDA found. Available devices:\")\n",
    "        for i in range(no_of_gpus):\n",
    "            logger.info(f\"Device {i}: {torch.cuda.get_device_name(i)}\")"
   ]
  },
  {
   "cell_type": "code",
   "execution_count": null,
   "id": "fef5ff99-5b35-4d60-a621-586514e5902a",
   "metadata": {},
   "outputs": [],
   "source": [
    "def get_data_in_x_batches(data: Iterable, num_batches: int = 1) -> Generator:\n",
    "    \"\"\"Split `data` to `num_batches`\"\"\"\n",
    "\n",
    "    batch_size = math.ceil(len(data) / num_batches)\n",
    "    batch_id = 0\n",
    "    for i in range(0, len(data), batch_size):\n",
    "        yield (batch_id, data[i : i + batch_size])\n",
    "        batch_id += 1"
   ]
  },
  {
   "cell_type": "code",
   "execution_count": null,
   "id": "edbb96c1-ee68-4bba-b9c7-28526c846a5f",
   "metadata": {},
   "outputs": [],
   "source": [
    "def process_batch(one_model_per_gpu: list):\n",
    "    \"\"\"Encode on defined device\"\"\"\n",
    "\n",
    "    def _process_batch(payload: Batch):\n",
    "        batch_id, data = payload\n",
    "        device = f\"cuda:{batch_id}\"\n",
    "        return one_model_per_gpu[batch_id].encode(\n",
    "            data,\n",
    "            convert_to_tensor=True,\n",
    "            device=device,\n",
    "        )\n",
    "\n",
    "    return _process_batch"
   ]
  },
  {
   "cell_type": "code",
   "execution_count": null,
   "id": "0b03342a-470e-4b3b-b5e1-e9940656d78b",
   "metadata": {},
   "outputs": [],
   "source": [
    "def get_simple_wikipedia_path(wikipedia_filepath: str) -> str:\n",
    "    \"\"\"Download prepared Simple English Wikipedia and return its path.\n",
    "\n",
    "    As dataset, we use Simple English Wikipedia.\n",
    "    Compared to the full English wikipedia, it has only\n",
    "    about 170k articles. We split these articles into\n",
    "    paragraphs and encode them with the bi-encoder.\n",
    "    \"\"\"\n",
    "\n",
    "    if not os.path.exists(wikipedia_filepath):\n",
    "        logger.info(\"Simple English Wikipedia not found locally. Downloading.\")\n",
    "        util.http_get(\n",
    "            \"http://sbert.net/datasets/simplewiki-2020-11-01.jsonl.gz\",\n",
    "            wikipedia_filepath,\n",
    "        )\n",
    "    return wikipedia_filepath"
   ]
  },
  {
   "cell_type": "code",
   "execution_count": null,
   "id": "c2f05262-fb83-4ef1-8e15-5896d9f05cce",
   "metadata": {},
   "outputs": [],
   "source": [
    "def get_passages(wikipedia_filepath: str) -> List[Passage]:\n",
    "    passages = []\n",
    "    with gzip.open(wikipedia_filepath, \"rt\", encoding=\"utf8\") as fIn:\n",
    "        for line in fIn:\n",
    "            data = json.loads(line.strip())\n",
    "            for paragraph in data[\"paragraphs\"]:\n",
    "                # We encode the passages as [title, text]\n",
    "                passages.append([data[\"title\"], paragraph])\n",
    "\n",
    "    logger.info(f\"Number of passages: {len(passages)}\")\n",
    "    return passages"
   ]
  },
  {
   "cell_type": "code",
   "execution_count": null,
   "id": "eb290186-2f6c-4760-952c-80c8e9174b4d",
   "metadata": {},
   "outputs": [],
   "source": [
    "def get_model_per_gpu(\n",
    "    cache_folder: str, model_name: str, no_of_gpus: int\n",
    ") -> List[SentenceTransformer]:\n",
    "    return [\n",
    "        SentenceTransformer(\n",
    "            model_name,\n",
    "            cache_folder=cache_folder,\n",
    "            device=f\"cuda:{i}\",\n",
    "        )\n",
    "        for i in range(no_of_gpus)\n",
    "    ]"
   ]
  },
  {
   "cell_type": "code",
   "execution_count": null,
   "id": "0c5df43f-0658-4e84-9412-050e710e066f",
   "metadata": {},
   "outputs": [],
   "source": [
    "def save_single_pt_file(\n",
    "    model_name: str, embeddings_dir: str, pt_file_prefix: str, results: List\n",
    "):\n",
    "    try:\n",
    "        trg = os.path.join(embeddings_dir, f\"{pt_file_prefix}--{model_name}.pt\")\n",
    "        cated = torch.cat([results[i].to(f\"cuda:0\") for i in range(len(results))])\n",
    "        torch.save(cated, trg)\n",
    "        logger.info(f\"Saved file: {trg}\")\n",
    "    except Exception as ex:\n",
    "        logger.error(\n",
    "            f\"Failed to save embedding as single file {trg=}. Try again as\"\n",
    "            f\" separate files. Error we got: {ex}\"\n",
    "        )\n"
   ]
  },
  {
   "cell_type": "code",
   "execution_count": null,
   "id": "57096ea7-1961-4914-8986-cb164eaa0cf0",
   "metadata": {},
   "outputs": [],
   "source": [
    "def save_multiple_pt_files(\n",
    "    model_name: str,\n",
    "    embeddings_dir: str,\n",
    "    pt_file_prefix: str,\n",
    "    results: List,\n",
    "    no_of_gpus: int,\n",
    "):\n",
    "    try:\n",
    "        for i in range(no_of_gpus):\n",
    "            trg = os.path.join(embeddings_dir, f\"{pt_file_prefix}--{model_name}.{i}.pt\")\n",
    "            logger.info(f\"Saving cuda:{i} to {trg=}\")\n",
    "            torch.save(results[i], trg)\n",
    "            logger.info(f\"Saved file: {trg}\")\n",
    "    except Exception as ex:\n",
    "        logger.error(\n",
    "            f\"Failed to save embedding as a separate file {trg=}. Error we got: {ex}\"\n",
    "        )\n"
   ]
  },
  {
   "cell_type": "code",
   "execution_count": null,
   "id": "186dbf88-5b5a-4e81-a802-157309202cbf",
   "metadata": {},
   "outputs": [],
   "source": [
    "# We use the Bi-Encoder to encode all passages, so that we can use it with sematic search\n",
    "model_name = 'nq-distilbert-base-v1'\n",
    "model_cache_dir = '/home/jupyter/models'\n",
    "data_dir = '/home/jupyter/data/workdir'\n",
    "embeddings_dir = '/home/jupyter/data/embeddings'\n",
    "no_of_gpus = 4\n",
    "save_single_pt = 1\n",
    "pt_file_prefix = 'createdbyjupyter'\n",
    "\n",
    "bi_encoder = SentenceTransformer(model_name, cache_folder=f\"{model_cache_dir}/{model_name}\")\n",
    "top_k = 5  # Number of passages we want to retrieve with the bi-encoder"
   ]
  },
  {
   "cell_type": "code",
   "execution_count": null,
   "id": "cc27ffbb-2d32-4cb8-b957-82e5bb7bcfc2",
   "metadata": {},
   "outputs": [],
   "source": [
    "model_cache_folder = os.path.join(model_cache_dir, model_name)"
   ]
  },
  {
   "cell_type": "code",
   "execution_count": null,
   "id": "53d312b3-eca5-4006-bf77-1ae41ff9597c",
   "metadata": {},
   "outputs": [],
   "source": [
    "os.makedirs(model_cache_folder, exist_ok=True)\n",
    "os.makedirs(data_dir, exist_ok=True)\n",
    "os.makedirs(embeddings_dir, exist_ok=True)"
   ]
  },
  {
   "cell_type": "code",
   "execution_count": null,
   "id": "16556ea8-a8d4-4125-ab31-b4300c514f34",
   "metadata": {},
   "outputs": [],
   "source": [
    "wikipedia_filepath = os.path.join(data_dir, \"simplewiki-2020-11-01.jsonl.gz\")"
   ]
  },
  {
   "cell_type": "code",
   "execution_count": null,
   "id": "5921894c-2bc1-4220-bc34-9058572ad601",
   "metadata": {},
   "outputs": [],
   "source": [
    "info_on_gpu_setup()"
   ]
  },
  {
   "cell_type": "code",
   "execution_count": null,
   "id": "bbe19c07-73f1-4a37-a416-a56a996fae97",
   "metadata": {},
   "outputs": [],
   "source": [
    "get_simple_wikipedia_path(wikipedia_filepath)"
   ]
  },
  {
   "cell_type": "code",
   "execution_count": null,
   "id": "0713e649-7074-406c-89cb-d9c4b547e4d5",
   "metadata": {},
   "outputs": [],
   "source": [
    "passages = get_passages(wikipedia_filepath)"
   ]
  },
  {
   "cell_type": "code",
   "execution_count": null,
   "id": "33f21f83-5a0f-4817-9676-b1903e8ac89f",
   "metadata": {},
   "outputs": [],
   "source": [
    "one_model_per_gpu = get_model_per_gpu(model_cache_folder, model_name, no_of_gpus)"
   ]
  },
  {
   "cell_type": "code",
   "execution_count": null,
   "id": "7a02d636-00c7-4ec1-a7ed-8d6bde21f937",
   "metadata": {},
   "outputs": [],
   "source": [
    "data_batches = get_data_in_x_batches(passages, num_batches=no_of_gpus)"
   ]
  },
  {
   "cell_type": "code",
   "execution_count": null,
   "id": "6ab13b35-265e-48ca-9ca0-97d787805455",
   "metadata": {},
   "outputs": [],
   "source": [
    "process_batch_with_model = process_batch(one_model_per_gpu)"
   ]
  },
  {
   "cell_type": "code",
   "execution_count": null,
   "id": "029f9fb3-cdb6-4b5e-8213-36fe0cadac67",
   "metadata": {},
   "outputs": [],
   "source": [
    "with ThreadPoolExecutor(max_workers=no_of_gpus) as executor:\n",
    "    results = list(executor.map(process_batch_with_model, data_batches))"
   ]
  },
  {
   "cell_type": "code",
   "execution_count": null,
   "id": "1eaeeb94-2eba-442e-a1cd-ba65304b2740",
   "metadata": {},
   "outputs": [],
   "source": [
    "if save_single_pt:\n",
    "    logger.info(\"Trying to put all embeddings to one GPU.\")\n",
    "    save_single_pt_file(model_name, embeddings_dir, pt_file_prefix, results)\n",
    "else:\n",
    "    logger.info(\"Saving one file per GPU.\")\n",
    "    save_multiple_pt_files(\n",
    "        model_name, embeddings_dir, pt_file_prefix, results, no_of_gpus\n",
    "    )"
   ]
  },
  {
   "cell_type": "code",
   "execution_count": null,
   "id": "03708873-ac67-448b-ba1b-73bc8e95b502",
   "metadata": {},
   "outputs": [],
   "source": [
    "embeddings_filepath = '/home/jupyter/data/embeddings/createdbyjupyter--nq-distilbert-base-v1.pt'"
   ]
  },
  {
   "cell_type": "code",
   "execution_count": null,
   "id": "9f66dcfe-fa0c-424d-967e-319d34e4cfd7",
   "metadata": {},
   "outputs": [],
   "source": [
    "corpus_embeddings = torch.load(embeddings_filepath, map_location=torch.device('cpu'))\n",
    "corpus_embeddings = corpus_embeddings.float()"
   ]
  },
  {
   "cell_type": "code",
   "execution_count": null,
   "id": "832b16c3-6ec1-4f55-9ecd-9479254fa5a5",
   "metadata": {},
   "outputs": [],
   "source": [
    "def search(query):\n",
    "    # Encode the query using the bi-encoder and find potentially relevant passages\n",
    "    start_time = time.time()\n",
    "    question_embedding = bi_encoder.encode(query, convert_to_tensor=True)\n",
    "    hits = util.semantic_search(question_embedding, corpus_embeddings, top_k=top_k)\n",
    "    hits = hits[0]  # Get the hits for the first query\n",
    "    end_time = time.time()\n",
    "\n",
    "    # Output of top-k hits\n",
    "    print(\"Input question:\", query)\n",
    "    print(\"Results (after {:.3f} seconds):\".format(end_time - start_time))\n",
    "    for hit in hits:\n",
    "        print(\"\\t{:.3f}\\t{}\".format(hit['score'], passages[hit['corpus_id']]))"
   ]
  },
  {
   "cell_type": "code",
   "execution_count": null,
   "id": "f0b8a421-0644-49e1-8d0b-4316cef1ae1b",
   "metadata": {
    "scrolled": true
   },
   "outputs": [],
   "source": [
    "search(query = \"What is the capital of the France?\")"
   ]
  },
  {
   "cell_type": "code",
   "execution_count": null,
   "id": "0f3dc90d-49fc-4f7d-80ad-c8cbe4be7610",
   "metadata": {},
   "outputs": [],
   "source": [
    "search(query = \"What is the best orchestra in the world?\")"
   ]
  },
  {
   "cell_type": "code",
   "execution_count": null,
   "id": "6eb57612-c832-4a50-b1df-3369f5785aa6",
   "metadata": {},
   "outputs": [],
   "source": [
    "search(query = \"Number countries Europe\")"
   ]
  },
  {
   "cell_type": "code",
   "execution_count": null,
   "id": "626ad4ed-c8ff-48ef-930e-3e4022ded1d5",
   "metadata": {},
   "outputs": [],
   "source": [
    "search(query = \"When did the cold war end?\")"
   ]
  },
  {
   "cell_type": "code",
   "execution_count": null,
   "id": "3264e67c-c32e-4eeb-adce-d16e20c1cd74",
   "metadata": {},
   "outputs": [],
   "source": [
    "search(query = \"How long do cats live?\")"
   ]
  },
  {
   "cell_type": "code",
   "execution_count": null,
   "id": "dfa532a3-cb66-41ee-939a-0f6ab9e90863",
   "metadata": {},
   "outputs": [],
   "source": [
    "search(query = \"How many people live in Toronto?\")"
   ]
  },
  {
   "cell_type": "code",
   "execution_count": null,
   "id": "57f2a3fd-0e7c-4ed3-9b33-9d704ecf107b",
   "metadata": {},
   "outputs": [],
   "source": [
    "search(query = \"Oldest US president\")"
   ]
  },
  {
   "cell_type": "code",
   "execution_count": null,
   "id": "1698524e-5706-4328-8d9b-72500e17b81b",
   "metadata": {},
   "outputs": [],
   "source": [
    "search(query = \"Coldest place earth\")"
   ]
  },
  {
   "cell_type": "code",
   "execution_count": null,
   "id": "277e4230-388d-4673-8801-64d51f1f2b8f",
   "metadata": {},
   "outputs": [],
   "source": [
    "search(query = \"When was Barack Obama born?\")"
   ]
  },
  {
   "cell_type": "code",
   "execution_count": null,
   "id": "aea7c680-27ab-4871-9ce7-480bd713be92",
   "metadata": {},
   "outputs": [],
   "source": [
    "search(query = \"Paris eiffel tower\")"
   ]
  },
  {
   "cell_type": "code",
   "execution_count": null,
   "id": "a3d0cd1e-e4d4-4406-a191-6713f8259116",
   "metadata": {},
   "outputs": [],
   "source": [
    "search(query = \"Which US president was killed?\")"
   ]
  },
  {
   "cell_type": "code",
   "execution_count": null,
   "id": "afc3eb7a-e12d-41cb-9219-1a0b2b15d32f",
   "metadata": {},
   "outputs": [],
   "source": [
    "search(query=\"When is Chinese New Year\")"
   ]
  },
  {
   "cell_type": "code",
   "execution_count": null,
   "id": "18dc0ac8-5ea3-4e04-80e4-bf52fe1e7f03",
   "metadata": {},
   "outputs": [],
   "source": [
    "search(query=\"what is the name of manchester united stadium\")"
   ]
  },
  {
   "cell_type": "code",
   "execution_count": null,
   "id": "dfadacd9-693a-4369-9c59-fb05026d581d",
   "metadata": {},
   "outputs": [],
   "source": [
    "search(query=\"who wrote cant get you out of my head lyrics\")"
   ]
  },
  {
   "cell_type": "code",
   "execution_count": null,
   "id": "3394be20-f67a-4718-bc58-52e2050ed45a",
   "metadata": {},
   "outputs": [],
   "source": [
    "search(query=\"where does the story the great gatsby take place\")"
   ]
  },
  {
   "cell_type": "code",
   "execution_count": null,
   "id": "d313d57a-0975-4b36-b768-41fdf5336baa",
   "metadata": {},
   "outputs": [],
   "source": [
    "search(query=\"who turned out to be the mother on how i met your mother\")"
   ]
  },
  {
   "cell_type": "code",
   "execution_count": null,
   "id": "d6e92a03-2dbf-44c5-a5b9-413b180c3f42",
   "metadata": {},
   "outputs": [],
   "source": [
    "from sentence_transformers import SentenceTransformer, util\n",
    "model = SentenceTransformer('nq-distilbert-base-v1', cache_folder=f\"{model_cache_dir}/{model_name}\")\n",
    "\n",
    "query_embedding = model.encode('How many people live in London?')\n",
    "\n",
    "#The passages are encoded as [title, text]\n",
    "passage_embedding = model.encode([['London', 'London has 9,787,426 inhabitants at the 2011 census.']])\n",
    "\n",
    "print(\"Similarity:\", util.pytorch_cos_sim(query_embedding, passage_embedding))"
   ]
  },
  {
   "cell_type": "code",
   "execution_count": null,
   "id": "08719e2b-4a21-415e-839e-a69427bf30c3",
   "metadata": {},
   "outputs": [],
   "source": [
    "query_embedding = model.encode('who turned out to be the mother on how i met your mother')\n",
    "\n",
    "#The passages are encoded as [title, text]\n",
    "passage_embedding = model.encode([['The Mother (How I Met Your Mother)', 'The Mother (How I Met Your Mother) Tracy McConnell (colloquial: \"The Mother\") is the title character from the CBS television sitcom \"How I Met Your Mother\". The show, narrated by Future Ted (Bob Saget), tells the story of how Ted Mosby (Josh Radnor) met The Mother. Tracy McConnell appears in eight episodes, from \"Lucky Penny\" to \"The Time Travelers\", as an unseen character; she was first seen fully in \"Something New\" and was promoted to a main character in season 9. The Mother is played by Cristin Milioti. The story of how Ted met The Mother is the framing device'],\n",
    "                                  ['Make It Easy on Me', 'and Pete Waterman on her 1993 album \"Good \\'N\\' Ready\", on which a remixed version of the song is included. \"Make It Easy On Me\", a mid-tempo R&B jam, received good reviews (especially for signalling a different, more soulful and mature sound atypical of the producers\\' Europop fare), but failed to make an impact on the charts, barely making the UK top 100 peaking at #99, and peaking at #52 on the \"Billboard\" R&B charts. The pop group Steps covered the song on their 1999 album \"Steptacular\". It was sung as a solo by Lisa Scott-Lee. Make It Easy on']])\n",
    "\n",
    "print(\"Similarity:\", util.pytorch_cos_sim(query_embedding, passage_embedding))"
   ]
  },
  {
   "cell_type": "code",
   "execution_count": null,
   "id": "39145692-9ed5-42ce-9b72-297e11fff993",
   "metadata": {},
   "outputs": [],
   "source": [
    "query_embedding = model.encode('where does the story the great gatsby take place')\n",
    "passage_embedding = model.encode([['The Great Gatsby', \n",
    " 'The Great Gatsby The Great Gatsby is a 1925 novel written by American author F. Scott Fitzgerald that follows a cast of characters living in the fictional towns of West Egg and East Egg on prosperous Long Island in the summer of 1922. The story primarily concerns the young and mysterious millionaire Jay Gatsby and his quixotic passion and obsession with the beautiful former debutante Daisy Buchanan. Considered to be Fitzgerald\\'s magnum opus, \"The Great Gatsby\" explores themes of decadence, idealism, resistance to change, social upheaval, and excess, creating a portrait of the Roaring Twenties that has been described as'],\n",
    " ['The Producers (1967 film)', '2005 (to coincide with the remake released that year). In 2011, MGM licensed the title to Shout! Factory to release a DVD and Blu-ray combo pack with new HD transfers and bonus materials. StudioCanal (worldwide rights holder to all of the Embassy Pictures library) released several R2 DVD editions and Blu-ray B releases using a transfer slightly different from the North Ameri can DVD and BDs. The Producers (1967 film) The Producers is a 1967 American satirical comedy film written and directed by Mel Brooks and starring Zero Mostel, Gene Wilder, Dick Shawn, and Kenneth Mars. The film was Brooks\\'s directorial']\n",
    "])\n",
    "\n",
    "print(\"Similarity:\", util.pytorch_cos_sim(query_embedding, passage_embedding))\n"
   ]
  }
 ],
 "metadata": {
  "kernelspec": {
   "display_name": "Python 3 (ipykernel)",
   "language": "python",
   "name": "python3"
  },
  "language_info": {
   "codemirror_mode": {
    "name": "ipython",
    "version": 3
   },
   "file_extension": ".py",
   "mimetype": "text/x-python",
   "name": "python",
   "nbconvert_exporter": "python",
   "pygments_lexer": "ipython3",
   "version": "3.10.13"
  }
 },
 "nbformat": 4,
 "nbformat_minor": 5
}
