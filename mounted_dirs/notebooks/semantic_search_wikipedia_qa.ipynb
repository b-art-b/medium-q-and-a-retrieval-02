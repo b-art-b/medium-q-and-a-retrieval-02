{
 "cells": [
  {
   "cell_type": "code",
   "execution_count": null,
   "id": "0b6bb2e5-86b9-4720-8fab-7eaa3ad2c461",
   "metadata": {},
   "outputs": [],
   "source": [
    "## https://github.com/UKPLab/sentence-transformers/tree/master/examples/applications/semantic-search/semantic_search_wikipedia_qa.py\n",
    "## https://colab.research.google.com/drive/11GunvCqJuebfeTlgbJWkIMT0xJH6PWF1?usp=sharing"
   ]
  },
  {
   "cell_type": "code",
   "execution_count": 8,
   "id": "237b0a2f-38c6-43c5-b6ac-acb08984dd35",
   "metadata": {},
   "outputs": [],
   "source": [
    "import json\n",
    "from sentence_transformers import SentenceTransformer, CrossEncoder, util\n",
    "import time\n",
    "import gzip\n",
    "import os\n",
    "import torch\n",
    "\n",
    "if not torch.cuda.is_available():\n",
    "  print(\"Warning: No GPU found. Please add GPU to your notebook\")\n",
    "root_dir='/home/jupyter'"
   ]
  },
  {
   "cell_type": "code",
   "execution_count": 9,
   "id": "c2f05262-fb83-4ef1-8e15-5896d9f05cce",
   "metadata": {},
   "outputs": [
    {
     "name": "stdout",
     "output_type": "stream",
     "text": [
      "/home/jupyter/data/simplewiki-2020-11-01.jsonl.gz exists\n"
     ]
    }
   ],
   "source": [
    "# We use the Bi-Encoder to encode all passages, so that we can use it with sematic search\n",
    "model_name = 'nq-distilbert-base-v1'\n",
    "bi_encoder = SentenceTransformer(model_name, cache_folder=f\"{root_dir}/models/{model_name}\")\n",
    "top_k = 5  # Number of passages we want to retrieve with the bi-encoder\n",
    "\n",
    "# As dataset, we use Simple English Wikipedia. Compared to the full English wikipedia, it has only\n",
    "# about 170k articles. We split these articles into paragraphs and encode them with the bi-encoder\n",
    "\n",
    "wikipedia_filepath = f'{root_dir}/data/simplewiki-2020-11-01.jsonl.gz'\n",
    "\n",
    "if not os.path.exists(wikipedia_filepath):\n",
    "    util.http_get('http://sbert.net/datasets/simplewiki-2020-11-01.jsonl.gz', wikipedia_filepath)\n",
    "else:\n",
    "    print(f\"{wikipedia_filepath} exists\")"
   ]
  },
  {
   "cell_type": "code",
   "execution_count": 10,
   "id": "eb290186-2f6c-4760-952c-80c8e9174b4d",
   "metadata": {},
   "outputs": [
    {
     "name": "stdout",
     "output_type": "stream",
     "text": [
      "Passages: 509663\n"
     ]
    }
   ],
   "source": [
    "passages = []\n",
    "with gzip.open(wikipedia_filepath, 'rt', encoding='utf8') as fIn:\n",
    "    for line in fIn:\n",
    "        data = json.loads(line.strip())\n",
    "        for paragraph in data['paragraphs']:\n",
    "            # We encode the passages as [title, text]\n",
    "            passages.append([data['title'], paragraph])\n",
    "\n",
    "# If you like, you can also limit the number of passages you want to use\n",
    "print(\"Passages:\", len(passages))"
   ]
  },
  {
   "cell_type": "code",
   "execution_count": 11,
   "id": "250906df-bb9c-4e4e-965f-d3ba0c75358a",
   "metadata": {},
   "outputs": [
    {
     "name": "stdout",
     "output_type": "stream",
     "text": [
      "Using pre-calculated embeddings downloaded from sbert.net\n",
      "Running on cuda.\n"
     ]
    }
   ],
   "source": [
    "# To speed things up, pre-computed embeddings are downloaded.\n",
    "# The provided file encoded the passages with the model 'nq-distilbert-base-v1'\n",
    "if model_name == 'nq-distilbert-base-v1':\n",
    "    print(\"Using pre-calculated embeddings downloaded from sbert.net\")\n",
    "    embeddings_filepath = f'{root_dir}/data/simplewiki-2020-11-01-nq-distilbert-base-v1.pt'\n",
    "    if not os.path.exists(embeddings_filepath):\n",
    "        util.http_get('http://sbert.net/datasets/simplewiki-2020-11-01-nq-distilbert-base-v1.pt', embeddings_filepath)\n",
    "\n",
    "    corpus_embeddings = torch.load(embeddings_filepath, map_location=torch.device('cpu'))\n",
    "    corpus_embeddings = corpus_embeddings.float()  # Convert embedding file to float\n",
    "    if torch.cuda.is_available():\n",
    "        corpus_embeddings = corpus_embeddings.to('cuda')\n",
    "        print(\"Running on cuda.\")\n",
    "\n",
    "else:  # Here, we compute the corpus_embeddings from scratch (which can take a while depending on the GPU)\n",
    "    print(\"Calculating the embeddings from scratch.\")\n",
    "    corpus_embeddings = bi_encoder.encode(passages, convert_to_tensor=True, show_progress_bar=True)"
   ]
  },
  {
   "cell_type": "code",
   "execution_count": 6,
   "id": "0b03342a-470e-4b3b-b5e1-e9940656d78b",
   "metadata": {},
   "outputs": [],
   "source": [
    "def search(query):\n",
    "    # Encode the query using the bi-encoder and find potentially relevant passages\n",
    "    start_time = time.time()\n",
    "    question_embedding = bi_encoder.encode(query, convert_to_tensor=True)\n",
    "    hits = util.semantic_search(question_embedding, corpus_embeddings, top_k=top_k)\n",
    "    hits = hits[0]  # Get the hits for the first query\n",
    "    end_time = time.time()\n",
    "\n",
    "    # Output of top-k hits\n",
    "    print(\"Input question:\", query)\n",
    "    print(\"Results (after {:.3f} seconds):\".format(end_time - start_time))\n",
    "    for hit in hits:\n",
    "        print(\"\\t{:.3f}\\t{}\".format(hit['score'], passages[hit['corpus_id']]))"
   ]
  },
  {
   "cell_type": "code",
   "execution_count": null,
   "id": "f0b8a421-0644-49e1-8d0b-4316cef1ae1b",
   "metadata": {},
   "outputs": [],
   "source": [
    "search(query = \"What is the capital of the France?\")"
   ]
  },
  {
   "cell_type": "code",
   "execution_count": null,
   "id": "0f3dc90d-49fc-4f7d-80ad-c8cbe4be7610",
   "metadata": {},
   "outputs": [],
   "source": [
    "search(query = \"What is the best orchestra in the world?\")"
   ]
  },
  {
   "cell_type": "code",
   "execution_count": null,
   "id": "6eb57612-c832-4a50-b1df-3369f5785aa6",
   "metadata": {},
   "outputs": [],
   "source": [
    "search(query = \"Number countries Europe\")"
   ]
  },
  {
   "cell_type": "code",
   "execution_count": null,
   "id": "626ad4ed-c8ff-48ef-930e-3e4022ded1d5",
   "metadata": {},
   "outputs": [],
   "source": [
    "search(query = \"When did the cold war end?\")"
   ]
  },
  {
   "cell_type": "code",
   "execution_count": null,
   "id": "3264e67c-c32e-4eeb-adce-d16e20c1cd74",
   "metadata": {},
   "outputs": [],
   "source": [
    "search(query = \"How long do cats live?\")"
   ]
  },
  {
   "cell_type": "code",
   "execution_count": null,
   "id": "dfa532a3-cb66-41ee-939a-0f6ab9e90863",
   "metadata": {},
   "outputs": [],
   "source": [
    "search(query = \"How many people live in Toronto?\")"
   ]
  },
  {
   "cell_type": "code",
   "execution_count": null,
   "id": "57f2a3fd-0e7c-4ed3-9b33-9d704ecf107b",
   "metadata": {},
   "outputs": [],
   "source": [
    "search(query = \"Oldest US president\")"
   ]
  },
  {
   "cell_type": "code",
   "execution_count": null,
   "id": "1698524e-5706-4328-8d9b-72500e17b81b",
   "metadata": {},
   "outputs": [],
   "source": [
    "search(query = \"Coldest place earth\")"
   ]
  },
  {
   "cell_type": "code",
   "execution_count": null,
   "id": "277e4230-388d-4673-8801-64d51f1f2b8f",
   "metadata": {},
   "outputs": [],
   "source": [
    "search(query = \"When was Barack Obama born?\")"
   ]
  },
  {
   "cell_type": "code",
   "execution_count": null,
   "id": "aea7c680-27ab-4871-9ce7-480bd713be92",
   "metadata": {},
   "outputs": [],
   "source": [
    "search(query = \"Paris eiffel tower\")"
   ]
  },
  {
   "cell_type": "code",
   "execution_count": null,
   "id": "a3d0cd1e-e4d4-4406-a191-6713f8259116",
   "metadata": {},
   "outputs": [],
   "source": [
    "search(query = \"Which US president was killed?\")"
   ]
  },
  {
   "cell_type": "code",
   "execution_count": null,
   "id": "afc3eb7a-e12d-41cb-9219-1a0b2b15d32f",
   "metadata": {},
   "outputs": [],
   "source": [
    "search(query=\"When is Chinese New Year\")"
   ]
  },
  {
   "cell_type": "code",
   "execution_count": null,
   "id": "18dc0ac8-5ea3-4e04-80e4-bf52fe1e7f03",
   "metadata": {},
   "outputs": [],
   "source": [
    "search(query=\"what is the name of manchester united stadium\")"
   ]
  },
  {
   "cell_type": "code",
   "execution_count": null,
   "id": "dfadacd9-693a-4369-9c59-fb05026d581d",
   "metadata": {},
   "outputs": [],
   "source": [
    "search(query=\"who wrote cant get you out of my head lyrics\")"
   ]
  },
  {
   "cell_type": "code",
   "execution_count": null,
   "id": "3394be20-f67a-4718-bc58-52e2050ed45a",
   "metadata": {},
   "outputs": [],
   "source": [
    "search(query=\"where does the story the great gatsby take place\")"
   ]
  },
  {
   "cell_type": "code",
   "execution_count": null,
   "id": "d313d57a-0975-4b36-b768-41fdf5336baa",
   "metadata": {},
   "outputs": [],
   "source": [
    "search(query=\"who turned out to be the mother on how i met your mother\")"
   ]
  },
  {
   "cell_type": "code",
   "execution_count": null,
   "id": "d6e92a03-2dbf-44c5-a5b9-413b180c3f42",
   "metadata": {},
   "outputs": [],
   "source": [
    "from sentence_transformers import SentenceTransformer, util\n",
    "model = SentenceTransformer('nq-distilbert-base-v1', cache_folder=f\"{root_dir}/models/{model_name}\")\n",
    "\n",
    "query_embedding = model.encode('How many people live in London?')\n",
    "\n",
    "#The passages are encoded as [title, text]\n",
    "passage_embedding = model.encode([['London', 'London has 9,787,426 inhabitants at the 2011 census.']])\n",
    "\n",
    "print(\"Similarity:\", util.pytorch_cos_sim(query_embedding, passage_embedding))"
   ]
  },
  {
   "cell_type": "code",
   "execution_count": null,
   "id": "08719e2b-4a21-415e-839e-a69427bf30c3",
   "metadata": {},
   "outputs": [],
   "source": [
    "query_embedding = model.encode('who turned out to be the mother on how i met your mother')\n",
    "\n",
    "#The passages are encoded as [title, text]\n",
    "passage_embedding = model.encode([['The Mother (How I Met Your Mother)', 'The Mother (How I Met Your Mother) Tracy McConnell (colloquial: \"The Mother\") is the title character from the CBS television sitcom \"How I Met Your Mother\". The show, narrated by Future Ted (Bob Saget), tells the story of how Ted Mosby (Josh Radnor) met The Mother. Tracy McConnell appears in eight episodes, from \"Lucky Penny\" to \"The Time Travelers\", as an unseen character; she was first seen fully in \"Something New\" and was promoted to a main character in season 9. The Mother is played by Cristin Milioti. The story of how Ted met The Mother is the framing device'],\n",
    "                                  ['Make It Easy on Me', 'and Pete Waterman on her 1993 album \"Good \\'N\\' Ready\", on which a remixed version of the song is included. \"Make It Easy On Me\", a mid-tempo R&B jam, received good reviews (especially for signalling a different, more soulful and mature sound atypical of the producers\\' Europop fare), but failed to make an impact on the charts, barely making the UK top 100 peaking at #99, and peaking at #52 on the \"Billboard\" R&B charts. The pop group Steps covered the song on their 1999 album \"Steptacular\". It was sung as a solo by Lisa Scott-Lee. Make It Easy on']])\n",
    "\n",
    "print(\"Similarity:\", util.pytorch_cos_sim(query_embedding, passage_embedding))"
   ]
  },
  {
   "cell_type": "code",
   "execution_count": null,
   "id": "39145692-9ed5-42ce-9b72-297e11fff993",
   "metadata": {},
   "outputs": [],
   "source": [
    "query_embedding = model.encode('where does the story the great gatsby take place')\n",
    "passage_embedding = model.encode([['The Great Gatsby', \n",
    " 'The Great Gatsby The Great Gatsby is a 1925 novel written by American author F. Scott Fitzgerald that follows a cast of characters living in the fictional towns of West Egg and East Egg on prosperous Long Island in the summer of 1922. The story primarily concerns the young and mysterious millionaire Jay Gatsby and his quixotic passion and obsession with the beautiful former debutante Daisy Buchanan. Considered to be Fitzgerald\\'s magnum opus, \"The Great Gatsby\" explores themes of decadence, idealism, resistance to change, social upheaval, and excess, creating a portrait of the Roaring Twenties that has been described as'],\n",
    " ['The Producers (1967 film)', '2005 (to coincide with the remake released that year). In 2011, MGM licensed the title to Shout! Factory to release a DVD and Blu-ray combo pack with new HD transfers and bonus materials. StudioCanal (worldwide rights holder to all of the Embassy Pictures library) released several R2 DVD editions and Blu-ray B releases using a transfer slightly different from the North Ameri can DVD and BDs. The Producers (1967 film) The Producers is a 1967 American satirical comedy film written and directed by Mel Brooks and starring Zero Mostel, Gene Wilder, Dick Shawn, and Kenneth Mars. The film was Brooks\\'s directorial']\n",
    "])\n",
    "\n",
    "print(\"Similarity:\", util.pytorch_cos_sim(query_embedding, passage_embedding))\n"
   ]
  }
 ],
 "metadata": {
  "kernelspec": {
   "display_name": "Python 3 (ipykernel)",
   "language": "python",
   "name": "python3"
  },
  "language_info": {
   "codemirror_mode": {
    "name": "ipython",
    "version": 3
   },
   "file_extension": ".py",
   "mimetype": "text/x-python",
   "name": "python",
   "nbconvert_exporter": "python",
   "pygments_lexer": "ipython3",
   "version": "3.10.13"
  }
 },
 "nbformat": 4,
 "nbformat_minor": 5
}
